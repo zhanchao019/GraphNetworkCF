{
  "nbformat": 4,
  "nbformat_minor": 0,
  "metadata": {
    "kernelspec": {
      "display_name": "Python 3",
      "language": "python",
      "name": "python3"
    },
    "language_info": {
      "codemirror_mode": {
        "name": "ipython",
        "version": 2
      },
      "file_extension": ".py",
      "mimetype": "text/x-python",
      "name": "python",
      "nbconvert_exporter": "python",
      "pygments_lexer": "ipython2",
      "version": "2.7.6"
    },
    "colab": {
      "name": "playground.ipynb",
      "provenance": []
    },
    "accelerator": "GPU"
  },
  "cells": [
    {
      "cell_type": "code",
      "metadata": {
        "collapsed": true,
        "id": "KZ11ZgG98M_q",
        "outputId": "54745053-a953-4cb7-d996-5573eb275742"
      },
      "source": [
        ""
      ],
      "execution_count": null,
      "outputs": [
        {
          "output_type": "stream",
          "text": [
            "import ok\n"
          ],
          "name": "stdout"
        }
      ]
    },
    {
      "cell_type": "code",
      "metadata": {
        "id": "WVLxo-Cw8Q-m"
      },
      "source": [
        ""
      ],
      "execution_count": null,
      "outputs": []
    },
    {
      "cell_type": "markdown",
      "metadata": {
        "id": "A70psblr8UEz"
      },
      "source": [
        "**加粗文字**# 加载项目文件"
      ]
    },
    {
      "cell_type": "code",
      "metadata": {
        "colab": {
          "base_uri": "https://localhost:8080/"
        },
        "id": "1olzJe8Q9gi4",
        "outputId": "77b03229-e082-4b79-f107-591133d0d687"
      },
      "source": [
        "from google.colab import drive\n",
        "drive.mount('/content/drive')"
      ],
      "execution_count": 1,
      "outputs": [
        {
          "output_type": "stream",
          "text": [
            "Mounted at /content/drive\n"
          ],
          "name": "stdout"
        }
      ]
    },
    {
      "cell_type": "markdown",
      "metadata": {
        "collapsed": false,
        "pycharm": {
          "name": "#%% md\n"
        },
        "id": "dXFqOA048NAc"
      },
      "source": [
        "*Data* 切换工作目录"
      ]
    },
    {
      "cell_type": "code",
      "metadata": {
        "pycharm": {
          "name": "#%%\n"
        },
        "colab": {
          "base_uri": "https://localhost:8080/"
        },
        "id": "FcUb8mqu8NAh",
        "outputId": "07b5b170-a639-43e6-bdd0-5137c46999af"
      },
      "source": [
        "import os\n",
        "print(os.getcwd())\n",
        "os.chdir('/content/drive/MyDrive/GraphNetworkCF')\n",
        "print(os.getcwd())\n",
        "!ls"
      ],
      "execution_count": 5,
      "outputs": [
        {
          "output_type": "stream",
          "text": [
            "/content/drive/MyDrive/GraphNetworkCF\n",
            "/content/drive/MyDrive/GraphNetworkCF\n",
            "Data\t\t metrics.py  NGCFModel.py\t     playground.ipynb  Utils\n",
            "data_process.py  model\t     NGCF_recommendation.py  test.ipynb\n"
          ],
          "name": "stdout"
        }
      ]
    },
    {
      "cell_type": "code",
      "metadata": {
        "colab": {
          "base_uri": "https://localhost:8080/"
        },
        "id": "NyKvZYte_dhq",
        "outputId": "cfa044b8-e1ae-4f18-9321-79962cac391b"
      },
      "source": [
        "!python3 NGCF_recommendation.py"
      ],
      "execution_count": null,
      "outputs": [
        {
          "output_type": "stream",
          "text": [
            "n_users=29858, n_items=40981\n",
            "n_interactions=1027370\n",
            "n_train=810128, n_test=217242, sparsity=0.00084\n",
            "tcmalloc: large alloc 4894449664 bytes == 0x55b4f5ac4000 @  0x7f15d980d001 0x7f158563d54f 0x7f158568db58 0x7f1585691b17 0x7f1585730203 0x55b4eb8f10e4 0x55b4eb8f0de0 0x55b4eb9656f5 0x55b4eb8f269a 0x55b4eb964e50 0x55b4eb95fb0e 0x55b4eb8f277a 0x55b4eb964e50 0x55b4eb8f269a 0x55b4eb964e50 0x55b4eb8f269a 0x55b4eb964e50 0x55b4eb8f472b 0x55b4eb9355e9 0x55b4eb9356f6 0x55b4eb9616d6 0x55b4eb8f269a 0x55b4eb960c9e 0x55b4eb8f269a 0x55b4eb960c9e 0x55b4eb95fb0e 0x55b4eb95f813 0x55b4eba29592 0x55b4eba2990d 0x55b4eba297b6 0x55b4eba01103\n",
            "tcmalloc: large alloc 4894449664 bytes == 0x55b4f60f4000 @  0x7f15d980d001 0x7f158563d54f 0x7f158568db58 0x7f1585691b17 0x7f1585730203 0x55b4eb8f10e4 0x55b4eb8f0de0 0x55b4eb9656f5 0x55b4eb8f269a 0x55b4eb964e50 0x55b4eb95fb0e 0x55b4eb8f277a 0x55b4eb964e50 0x55b4eb8f269a 0x55b4eb964e50 0x55b4eb8f269a 0x55b4eb964e50 0x55b4eb8f472b 0x55b4eb9355e9 0x55b4eb9356f6 0x55b4eb9616d6 0x55b4eb8f269a 0x55b4eb960c9e 0x55b4eb8f269a 0x55b4eb960c9e 0x55b4eb95fb0e 0x55b4eb95f813 0x55b4eba29592 0x55b4eba2990d 0x55b4eba297b6 0x55b4eba01103\n",
            "already create adjacency matrix (70839, 70839) 73.00791692733765\n",
            "generate single-normalized adjacency matrix.\n",
            "generate single-normalized adjacency matrix.\n",
            "already normalize adjacency matrix 1.9206979274749756\n",
            "start training\n",
            "epoch: 0 137.37065=137.36+0.00892\n",
            "epoch: 1 137.27648=137.27+0.00892\n",
            "epoch: 2 133.11523=133.11+0.00893\n",
            "epoch: 3 76.10231=76.09+0.00898\n",
            "epoch: 4 61.52272=61.51+0.00902\n",
            "epoch: 5 56.40674=56.40+0.00905\n",
            "epoch: 6 52.00942=52.00+0.00907\n",
            "epoch: 7 48.29749=48.29+0.00910\n",
            "epoch: 8 45.42912=45.42+0.00912\n",
            "one epoch consume 61.15 s\n",
            "test time 61.54 s\n",
            "epoch: 9 43.15=43.14+0.01 0.00779 0.02314 0.00901 0.01372\n",
            "epoch: 10 41.39187=41.38+0.00916\n"
          ],
          "name": "stdout"
        }
      ]
    },
    {
      "cell_type": "code",
      "metadata": {
        "id": "Jh2G3UJPBS9A"
      },
      "source": [
        "!nvidia-smi"
      ],
      "execution_count": null,
      "outputs": []
    }
  ]
}