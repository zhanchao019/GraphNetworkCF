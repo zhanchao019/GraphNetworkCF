{
 "cells": [
  {
   "cell_type": "code",
   "execution_count": 8,
   "metadata": {
    "collapsed": true
   },
   "outputs": [
    {
     "name": "stdout",
     "output_type": "stream",
     "text": [
      "import ok\n"
     ]
    }
   ],
   "source": [
    "\n",
    "import torch\n",
    "from torch import nn as nn\n",
    "from scipy.sparse import coo_matrix\n",
    "import numpy as np\n",
    "from numpy import diag\n",
    "from torch.utils.data import DataLoader\n",
    "from torch.utils.data import random_split\n",
    "from torch.optim import Adam\n",
    "from torch.nn import MSELoss\n",
    "from Utils.metrics import *\n",
    "import os\n",
    "import datetime\n",
    "batch_size = 4096\n",
    "BATCH_SIZE = batch_size\n",
    "epochs = 400\n",
    "para = {\n",
    "    'lr':0.0001,\n",
    "    'train':0.8\n",
    "}\n",
    "print(\"import ok\")\n"
   ]
  },
  {
   "cell_type": "markdown",
   "source": [
    "Data test class"
   ],
   "metadata": {
    "collapsed": false,
    "pycharm": {
     "name": "#%% md\n"
    }
   }
  },
  {
   "cell_type": "code",
   "execution_count": 16,
   "outputs": [],
   "source": [
    "from Utils.loadedData import *"
   ],
   "metadata": {
    "collapsed": false,
    "pycharm": {
     "name": "#%% \n"
    }
   }
  },
  {
   "cell_type": "code",
   "execution_count": 17,
   "outputs": [
    {
     "name": "stdout",
     "output_type": "stream",
     "text": [
      "/Users/zhanchao/GitHub/GraphNetworkCF\n",
      "train file./Data/gowalla/train.txt\n",
      "test file./Data/gowalla/test.txt\n",
      "n_users=29858, n_items=40981\n",
      "n_interactions=1027370\n",
      "n_train=810128, n_test=217242, sparsity=0.00084\n"
     ]
    }
   ],
   "source": [
    "print(os.getcwd())\n",
    "path = './Data/gowalla'\n",
    "data = Data(path, batch_size)"
   ],
   "metadata": {
    "collapsed": false,
    "pycharm": {
     "name": "#%%\n"
    }
   }
  },
  {
   "cell_type": "code",
   "execution_count": null,
   "outputs": [],
   "source": [],
   "metadata": {
    "collapsed": false,
    "pycharm": {
     "name": "#%%\n"
    }
   }
  }
 ],
 "metadata": {
  "kernelspec": {
   "display_name": "Python 3",
   "language": "python",
   "name": "python3"
  },
  "language_info": {
   "codemirror_mode": {
    "name": "ipython",
    "version": 2
   },
   "file_extension": ".py",
   "mimetype": "text/x-python",
   "name": "python",
   "nbconvert_exporter": "python",
   "pygments_lexer": "ipython2",
   "version": "2.7.6"
  }
 },
 "nbformat": 4,
 "nbformat_minor": 0
}